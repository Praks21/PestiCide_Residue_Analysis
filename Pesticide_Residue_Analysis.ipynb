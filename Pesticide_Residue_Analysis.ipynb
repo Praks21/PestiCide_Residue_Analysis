{
  "nbformat": 4,
  "nbformat_minor": 0,
  "metadata": {
    "colab": {
      "provenance": [],
      "authorship_tag": "ABX9TyPjcs3W40Hq7dQj28vvlyQU",
      "include_colab_link": true
    },
    "kernelspec": {
      "name": "python3",
      "display_name": "Python 3"
    },
    "language_info": {
      "name": "python"
    }
  },
  "cells": [
    {
      "cell_type": "markdown",
      "metadata": {
        "id": "view-in-github",
        "colab_type": "text"
      },
      "source": [
        "<a href=\"https://colab.research.google.com/github/Praks21/PestiCide_Residue_Analysis/blob/main/Pesticide_Residue_Analysis.ipynb\" target=\"_parent\"><img src=\"https://colab.research.google.com/assets/colab-badge.svg\" alt=\"Open In Colab\"/></a>"
      ]
    },
    {
      "cell_type": "code",
      "source": [
        "from google.colab import drive\n",
        "drive.mount('/content/drive')\n"
      ],
      "metadata": {
        "id": "A_sfAF4XQDM-"
      },
      "execution_count": null,
      "outputs": []
    },
    {
      "cell_type": "code",
      "source": [
        "import os\n",
        "import matplotlib.pyplot as plt\n",
        "from tensorflow.keras.preprocessing.image import ImageDataGenerator\n",
        "from tensorflow.keras.applications import ResNet50\n",
        "from tensorflow.keras.layers import Dense, GlobalAveragePooling2D\n",
        "from tensorflow.keras.models import Model\n",
        "from tensorflow.keras.optimizers import Adam"
      ],
      "metadata": {
        "id": "GRm6J1DAQEVz"
      },
      "execution_count": null,
      "outputs": []
    },
    {
      "cell_type": "code",
      "source": [
        "# Define the local paths for train and test datasets\n",
        "train_dataset_path = r'C:\\Users\\prakh\\Downloads\\Vegetable dataset\\train'\n",
        "test_dataset_path = r'C:\\Users\\prakh\\Downloads\\Vegetable dataset\\test'"
      ],
      "metadata": {
        "id": "qc4yaGnWQJvj"
      },
      "execution_count": null,
      "outputs": []
    },
    {
      "cell_type": "code",
      "source": [
        "# Check if the paths exist\n",
        "print(\"Train dataset path exists:\", os.path.exists(train_dataset_path))\n",
        "print(\"Test dataset path exists:\", os.path.exists(test_dataset_path))\n"
      ],
      "metadata": {
        "id": "TajmRou4QM2C"
      },
      "execution_count": null,
      "outputs": []
    },
    {
      "cell_type": "code",
      "source": [
        "# Initialize ImageDataGenerator for train and test data\n",
        "datagen = ImageDataGenerator(rescale=1./255)\n",
        "test_datagen = ImageDataGenerator(rescale=1./255)\n"
      ],
      "metadata": {
        "id": "g4NFCpAgQPYM"
      },
      "execution_count": null,
      "outputs": []
    },
    {
      "cell_type": "code",
      "source": [
        "# Load the images from the train directory\n",
        "train_generator = datagen.flow_from_directory(\n",
        "    train_dataset_path,\n",
        "    target_size=(224, 224),  # Resize images to (224, 224) for the model\n",
        "    batch_size=32,\n",
        "    class_mode='categorical', # For multi-class classification\n",
        "    shuffle=True  # Shuffle the dataset for training\n",
        ")"
      ],
      "metadata": {
        "id": "N8v5xk7DQS5R"
      },
      "execution_count": null,
      "outputs": []
    },
    {
      "cell_type": "code",
      "source": [
        "# Load the images from the test directory\n",
        "test_generator = test_datagen.flow_from_directory(\n",
        "    test_dataset_path,\n",
        "    target_size=(224, 224),  # Resize images to (224, 224) for the model\n",
        "    batch_size=32,\n",
        "    class_mode='categorical', # For multi-class classification\n",
        "    shuffle=False  # Don't shuffle the test data\n",
        ")"
      ],
      "metadata": {
        "id": "Wf3nTjtqQUrd"
      },
      "execution_count": null,
      "outputs": []
    },
    {
      "cell_type": "code",
      "source": [
        "# Example: Print out class labels\n",
        "print(\"Classes found:\", train_generator.class_indices)"
      ],
      "metadata": {
        "id": "n2IP78EXQWSE"
      },
      "execution_count": null,
      "outputs": []
    },
    {
      "cell_type": "code",
      "source": [
        "# Define the ResNet50 model\n",
        "base_model = ResNet50(weights='imagenet', include_top=False, input_shape=(224, 224, 3))"
      ],
      "metadata": {
        "id": "kIOrxnXwQdcl"
      },
      "execution_count": null,
      "outputs": []
    },
    {
      "cell_type": "code",
      "source": [
        "# Freeze the layers of ResNet50\n",
        "for layer in base_model.layers:\n",
        "    layer.trainable = False\n",
        "\n",
        "# Add a custom top layer\n",
        "x = base_model.output\n",
        "x = GlobalAveragePooling2D()(x)\n",
        "x = Dense(1024, activation='relu')(x)\n",
        "x = Dense(3, activation='softmax')(x)  # 3 classes (change if necessary)"
      ],
      "metadata": {
        "id": "l_b4n1uQQi0Q"
      },
      "execution_count": null,
      "outputs": []
    },
    {
      "cell_type": "code",
      "source": [
        "# Create the final model\n",
        "model = Model(inputs=base_model.input, outputs=x)\n",
        "\n",
        "# Compile the model\n",
        "model.compile(optimizer=Adam(), loss='categorical_crossentropy', metrics=['accuracy'])"
      ],
      "metadata": {
        "id": "Hw8o-8alQmwG"
      },
      "execution_count": null,
      "outputs": []
    },
    {
      "cell_type": "code",
      "source": [
        "# Train the model\n",
        "history = model.fit(\n",
        "    train_generator,\n",
        "    epochs=2,  # Reduce epochs for testing, adjust as needed\n",
        "    validation_data=test_generator\n",
        ")"
      ],
      "metadata": {
        "id": "bSYbWkBZQqoY"
      },
      "execution_count": null,
      "outputs": []
    },
    {
      "cell_type": "code",
      "source": [
        "# Save the trained model\n",
        "model.save('vegetable_classification_model.h5')"
      ],
      "metadata": {
        "id": "L7W09KBkQuQM"
      },
      "execution_count": null,
      "outputs": []
    },
    {
      "cell_type": "code",
      "source": [
        "# Print final accuracy\n",
        "print(f\"Final Training Accuracy: {history.history['accuracy'][-1]}\")\n",
        "print(f\"Final Validation Accuracy: {history.history['val_accuracy'][-1]}\")"
      ],
      "metadata": {
        "id": "9NnO6TkUQvO5"
      },
      "execution_count": null,
      "outputs": []
    },
    {
      "cell_type": "code",
      "source": [
        "# Plotting the training and validation accuracy\n",
        "plt.figure(figsize=(12, 6))"
      ],
      "metadata": {
        "id": "8YU0WgCVQw5v"
      },
      "execution_count": null,
      "outputs": []
    },
    {
      "cell_type": "code",
      "source": [
        "# Accuracy plot\n",
        "plt.subplot(1, 2, 1)\n",
        "plt.plot(history.history['accuracy'], label='Training Accuracy')\n",
        "plt.plot(history.history['val_accuracy'], label='Validation Accuracy')\n",
        "plt.title('Training and Validation Accuracy')\n",
        "plt.xlabel('Epochs')\n",
        "plt.ylabel('Accuracy')\n",
        "plt.legend()"
      ],
      "metadata": {
        "id": "ItMs-6udQ1Kl"
      },
      "execution_count": null,
      "outputs": []
    },
    {
      "cell_type": "code",
      "source": [
        "# Loss plot\n",
        "plt.subplot(1, 2, 2)\n",
        "plt.plot(history.history['loss'], label='Training Loss')\n",
        "plt.plot(history.history['val_loss'], label='Validation Loss')\n",
        "plt.title('Training and Validation Loss')\n",
        "plt.xlabel('Epochs')\n",
        "plt.ylabel('Loss')\n",
        "plt.legend()\n",
        "\n",
        "# Show the plots\n",
        "plt.show()"
      ],
      "metadata": {
        "id": "abP9X0jVQ3TJ"
      },
      "execution_count": null,
      "outputs": []
    }
  ]
}